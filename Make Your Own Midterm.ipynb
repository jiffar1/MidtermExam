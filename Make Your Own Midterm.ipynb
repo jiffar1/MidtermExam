{
 "cells": [
  {
   "cell_type": "markdown",
   "metadata": {},
   "source": [
    "#                                        Midterm Questions DSE\n"
   ]
  },
  {
   "cell_type": "markdown",
   "metadata": {},
   "source": [
    "# Multiple Choice"
   ]
  },
  {
   "cell_type": "code",
   "execution_count": 10,
   "metadata": {},
   "outputs": [
    {
     "data": {
      "text/plain": [
       "'\\n1.Which of the following is not a python data type?\\nA: list\\nB: dictionary\\nC: set\\nD: map <- correct\\n'"
      ]
     },
     "execution_count": 10,
     "metadata": {},
     "output_type": "execute_result"
    }
   ],
   "source": [
    "'''\n",
    "\n",
    "1. What is the proper pandas syntax to load a csv file?\n",
    "A: pandas.read_csv('file_name')\n",
    "B: read_csv(pandas.file_name)\n",
    "C: load.csv.pandas.file\n",
    "D: file_name.load_csv\n",
    "correct: (A)\n",
    "\n",
    "2. What is the seaborn library most used for?\n",
    "A: machine learning\n",
    "B: data visualization\n",
    "C: data wrangling\n",
    "D: geo spacial data at sea and oceans\n",
    "correct: (B)\n",
    "\n",
    "3.Which of the following data types in python holds immutable data?\n",
    "A: list\n",
    "B: dictionary\n",
    "C: set\n",
    "D: tuple \n",
    "correct: (D)\n",
    "\n",
    "4.What is the best approach to structure a prefix tree?\n",
    "A: Link based structure\n",
    "B: tuple based structure\n",
    "C: dictionary based structure \n",
    "D: None of the above.\n",
    "correct: (C)\n",
    "\n",
    "5. If you are conducting text analysis, you will likely use which of the following libraries:\n",
    "A: matplotlib\n",
    "B: NLTK\n",
    "C: numpy\n",
    "D: All the above\n",
    "correct: (D)\n",
    "\n",
    "6. What is the main difference between a numpy array and a pandas dataframe?\n",
    "A: numpy can only store numbers and dataframe can store both numbers and strings\n",
    "B: Numpy array can only store the same data type, while dataframes store multiple data types in different columns\n",
    "C: It is possible to do calculations on numpy arrays but not dataframes\n",
    "D: Numpy uses C++ language and pandas dataframe uses python\n",
    "correct: B\n",
    "\n",
    "7. What values can the outputs of logistic regression take?\n",
    "A: Between 0 and 1\n",
    "B: Between 1 and 100\n",
    "C: Between -1 and 1\n",
    "D: All the above\n",
    "correct: (A)\n",
    "\n",
    "8. To calculate the probability of survival on the Titanic as it relates to gender you would use which method:\n",
    "A: Bayesian Statistics\n",
    "B: Linear Algebra\n",
    "C: Differential Calculus\n",
    "D: String Theory\n",
    "correct: (A)\n",
    "'''\n"
   ]
  },
  {
   "cell_type": "markdown",
   "metadata": {},
   "source": [
    "# True/False questions"
   ]
  },
  {
   "cell_type": "code",
   "execution_count": 12,
   "metadata": {},
   "outputs": [
    {
     "data": {
      "text/plain": [
       "'\\n1.Logistic regression is a classification algorithm\\nA: True\\nB: False\\ncorrect: (A)\\n\\n2. KNN (K Nearest Neighbor) is a method of regression that predicts the probability of a target variable.\\nA: True\\nB: False\\ncorrect (B)\\n\\n3. In KNN, as you increase the value of K, your data is smoothed out.\\nA: True\\nB: False\\ncorrect: (A)\\n\\n4. Bayes Theorem is useful in handling statistics related to false positive and false negative assessments.\\nA: True\\nB: False\\ncorrect: (A)\\n\\n5. A sphere can be projected to a plain without distortion.\\nA: True\\nB: False\\ncorrect: (B)\\n\\n6. The Mercator Projection is the type of map that google maps uses.\\nA: True\\nB: False\\ncorrect: (A)\\n\\n7. If you have missing values in a dataset, then the entire dataset must be discarded because it is defective.\\nA: True\\nB: False\\ncorrect: (B)\\n'"
      ]
     },
     "execution_count": 12,
     "metadata": {},
     "output_type": "execute_result"
    }
   ],
   "source": [
    "'''\n",
    "1.Logistic regression is a classification algorithm\n",
    "A: True\n",
    "B: False\n",
    "correct: (A)\n",
    "\n",
    "2. KNN (K Nearest Neighbor) is a method of regression that predicts the probability of a target variable.\n",
    "A: True\n",
    "B: False\n",
    "correct (B)\n",
    "\n",
    "3. In KNN, as you increase the value of K, your data is smoothed out.\n",
    "A: True\n",
    "B: False\n",
    "correct: (A)\n",
    "\n",
    "4. Bayes Theorem is useful in handling statistics related to false positive and false negative assessments.\n",
    "A: True\n",
    "B: False\n",
    "correct: (A)\n",
    "\n",
    "5. A sphere can be projected to a plain without distortion.\n",
    "A: True\n",
    "B: False\n",
    "correct: (B)\n",
    "\n",
    "6. The Mercator Projection is the type of map that google maps uses.\n",
    "A: True\n",
    "B: False\n",
    "correct: (A)\n",
    "\n",
    "7. If there are missing values in a dataset, then the entire dataset must be discarded because it is defective.\n",
    "A: True\n",
    "B: False\n",
    "correct: (B)\n",
    "'''"
   ]
  },
  {
   "cell_type": "markdown",
   "metadata": {},
   "source": [
    "# Data Camp Style Questions"
   ]
  },
  {
   "cell_type": "code",
   "execution_count": 14,
   "metadata": {},
   "outputs": [
    {
     "data": {
      "text/plain": [
       "\"\\n#Load a csv file named musical.csv and store it as music\\nimport ____ as ___\\nmusic = pd._____\\n\\n#answer:   \\nimport pandas as pd\\nmusic = pd.read_csv('musical.csv')\\n\\n\\n#analyze the data type of your data\\nmusic.___\\n\\n#answer:\\nmusic.info()\\n\\n\\n#Import the proper library and creat a K nearest neighour classifier with n=5 neighbours\\nfrom ____ import ____\\nmodel = ______\\n\\n#answer:\\nfrom sklearn.neighbors import KNeighborsClassifier\\nmodel = KNeighborsClassifier(n_neigbors = 5)\\n\\n#Feature data has been stored as X and target data stored as y.\\n#Use the KNN model you just created to fit the data to the target.\\nmodel.____\\n\\n#answer:\\nmodel.fit(X,y)\\n\\n#Use the model that was just fitted to test its predictions on X:\\nmodel.predict(X)\\n\\n\\n\""
      ]
     },
     "execution_count": 14,
     "metadata": {},
     "output_type": "execute_result"
    }
   ],
   "source": [
    "'''\n",
    "#Load a csv file named musical.csv and store it as music\n",
    "import ____ as ___\n",
    "music = pd._____\n",
    "\n",
    "#answer:   \n",
    "import pandas as pd\n",
    "music = pd.read_csv('musical.csv')\n",
    "\n",
    "\n",
    "#analyze the data type of your data columns:\n",
    "music.___\n",
    "\n",
    "#answer:\n",
    "music.info()\n",
    "\n",
    "\n",
    "#Import the proper library and creat a K nearest neighour classifier with n=5 neighbours\n",
    "from ____ import ____\n",
    "model = ______\n",
    "\n",
    "#answer:\n",
    "from sklearn.neighbors import KNeighborsClassifier\n",
    "model = KNeighborsClassifier(n_neigbors = 5)\n",
    "\n",
    "#Feature data has been stored as X and target data stored as y.\n",
    "#Use the KNN model you just created to fit the data to the target.\n",
    "model.____\n",
    "\n",
    "#answer:\n",
    "model.fit(X,y)\n",
    "\n",
    "#Use the model that was just fitted to test its predictions on X:\n",
    "model.predict(X)\n",
    "\n",
    "# Create a linear model and complete the least squares fit for data training targets \n",
    "#and features called (target_1, feature_1), then print the summary:\n",
    "import _____ as sm\n",
    "model = sm.___(____, ____)\n",
    "results = model.___\n",
    "print(____)\n",
    "\n",
    "answer:\n",
    "import statsmodels.api as sm\n",
    "model = sm.OLS(target_1, feature_1)\n",
    "results = model.fit()  \n",
    "print(results.summary())\n",
    "\n",
    "'''\n"
   ]
  },
  {
   "cell_type": "markdown",
   "metadata": {},
   "source": [
    "# Data Set Mini Task"
   ]
  },
  {
   "cell_type": "code",
   "execution_count": 15,
   "metadata": {},
   "outputs": [
    {
     "data": {
      "text/plain": [
       "\"There is monthly data available which contains interest rates. The data is labeled i_rates.\\nFirst inspect the data. Convert it into weekly date and use interpolation to fill the missing values.\\nAfterwards, create a plot to visualize the data\\n\\nimport pandas as pd\\nimport matplotlib.pyplot as plt\\n\\n#Look at the data:\\ni_rates.info()\\ni_rates.head()\\n\\n# Create weekly dates\\nweekly_dates = pd.date_range(freq= 'W', start = i_rates.index.min(), end= i_rates.index.max())\\n\\n# Reindex monthly to weekly data\\nweekly = i_rates.reindex(weekly_dates)\\n\\n# Create interpolated columns\\nweekly['interpolated'] = weekly.UNRATE.interpolate()\\n\\n# Plot weekly\\nweekly.plot()\\nplt.show()\\n\\n\\n\""
      ]
     },
     "execution_count": 15,
     "metadata": {},
     "output_type": "execute_result"
    }
   ],
   "source": [
    "'''There is monthly data available which contains interest rates. The data is labeled i_rates.\n",
    "First inspect the data. Convert it into weekly date and use interpolation to fill the missing values.\n",
    "Afterwards, create a plot to visualize the data\n",
    "\n",
    "import pandas as pd\n",
    "import matplotlib.pyplot as plt\n",
    "\n",
    "#Look at the data:\n",
    "i_rates.info()\n",
    "i_rates.head()\n",
    "\n",
    "# Create weekly dates\n",
    "weekly_dates = pd.date_range(freq= 'W', start = i_rates.index.min(), end= i_rates.index.max())\n",
    "\n",
    "# Reindex monthly to weekly data\n",
    "weekly = i_rates.reindex(weekly_dates)\n",
    "\n",
    "# Create interpolated columns\n",
    "weekly['interpolated'] = weekly.UNRATE.interpolate()\n",
    "\n",
    "# Plot weekly\n",
    "weekly.plot()\n",
    "plt.show()\n",
    "\n",
    "\n",
    "'''"
   ]
  },
  {
   "cell_type": "code",
   "execution_count": null,
   "metadata": {},
   "outputs": [],
   "source": []
  }
 ],
 "metadata": {
  "kernelspec": {
   "display_name": "Python 3",
   "language": "python",
   "name": "python3"
  },
  "language_info": {
   "codemirror_mode": {
    "name": "ipython",
    "version": 3
   },
   "file_extension": ".py",
   "mimetype": "text/x-python",
   "name": "python",
   "nbconvert_exporter": "python",
   "pygments_lexer": "ipython3",
   "version": "3.6.5"
  }
 },
 "nbformat": 4,
 "nbformat_minor": 2
}
